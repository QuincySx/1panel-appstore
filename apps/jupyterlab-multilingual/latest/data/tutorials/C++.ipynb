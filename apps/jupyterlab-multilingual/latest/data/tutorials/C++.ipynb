{
 "cells": [
  {
   "cell_type": "code",
   "execution_count": null,
   "id": "8b6f3d9b-0d87-4762-9ec9-1382a8bbae0a",
   "metadata": {},
   "outputs": [],
   "source": [
    "#pragma cling add_include_path(\"inc_directory\")\n",
    "\n",
    "#pragma cling add_library_path(\"lib_directory\")\n",
    "\n",
    "#pragma cling load(\"libname\")\n",
    "\n",
    "#include <iostream>"
   ]
  },
  {
   "cell_type": "code",
   "execution_count": null,
   "id": "ff5b8e60-5587-45db-a85a-45fafdf6ce0d",
   "metadata": {},
   "outputs": [],
   "source": [
    "cout << \"Value of str is : \" << endl;"
   ]
  }
 ],
 "metadata": {
  "kernelspec": {
   "display_name": "C++14",
   "language": "c++",
   "name": "cpp14"
  },
  "language_info": {
   "name": ""
  }
 },
 "nbformat": 4,
 "nbformat_minor": 5
}

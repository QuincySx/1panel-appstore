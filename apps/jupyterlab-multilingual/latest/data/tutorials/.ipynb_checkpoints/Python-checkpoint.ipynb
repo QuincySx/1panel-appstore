{
 "cells": [
  {
   "cell_type": "markdown",
   "id": "1391ff2b-1883-4ab7-8108-7d785257f1b9",
   "metadata": {},
   "source": [
    "显示安装路径"
   ]
  },
  {
   "cell_type": "code",
   "execution_count": null,
   "id": "2d8aaf68-c5f0-40da-b283-2f3c73dd0a08",
   "metadata": {},
   "outputs": [],
   "source": [
    "!pip show <库名>"
   ]
  },
  {
   "cell_type": "markdown",
   "id": "f4691d85-8fe5-4bc8-9eb5-cfb47cf79148",
   "metadata": {},
   "source": [
    "安装三方库"
   ]
  },
  {
   "cell_type": "code",
   "execution_count": null,
   "id": "3f89a270-a2c3-4a09-ae0e-62c7b6ee9dbe",
   "metadata": {},
   "outputs": [],
   "source": [
    "!pip install <库名>==<版本号>"
   ]
  },
  {
   "cell_type": "markdown",
   "id": "534bae25-96e0-4fb0-93bd-cb878aeee6c6",
   "metadata": {},
   "source": [
    "引用第三方库"
   ]
  },
  {
   "cell_type": "code",
   "execution_count": null,
   "id": "bb9266c0-47df-4310-a92a-2ccd758f08ae",
   "metadata": {},
   "outputs": [],
   "source": [
    "import sys"
   ]
  }
 ],
 "metadata": {
  "kernelspec": {
   "display_name": "Python 3 (ipykernel)",
   "language": "python",
   "name": "python3"
  },
  "language_info": {
   "codemirror_mode": {
    "name": "ipython",
    "version": 3
   },
   "file_extension": ".py",
   "mimetype": "text/x-python",
   "name": "python",
   "nbconvert_exporter": "python",
   "pygments_lexer": "ipython3",
   "version": "3.11.6"
  }
 },
 "nbformat": 4,
 "nbformat_minor": 5
}

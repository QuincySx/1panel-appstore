{
 "cells": [
  {
   "cell_type": "code",
   "execution_count": null,
   "id": "8b6f3d9b-0d87-4762-9ec9-1382a8bbae0a",
   "metadata": {},
   "outputs": [],
   "source": [
    "#pragma cling add_include_path(\"inc_directory\")\n",
    "\n",
    "#pragma cling add_library_path(\"lib_directory\")\n",
    "\n",
    "#pragma cling load(\"libname\")"
   ]
  }
 ],
 "metadata": {
  "kernelspec": {
   "display_name": "C++14",
   "language": "c++",
   "name": "cpp14"
  },
  "language_info": {
   "name": ""
  }
 },
 "nbformat": 4,
 "nbformat_minor": 5
}

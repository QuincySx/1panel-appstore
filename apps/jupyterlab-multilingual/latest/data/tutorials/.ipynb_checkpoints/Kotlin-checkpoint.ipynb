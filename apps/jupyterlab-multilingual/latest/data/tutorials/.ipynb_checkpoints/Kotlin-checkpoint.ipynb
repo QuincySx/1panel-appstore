{
 "cells": [
  {
   "cell_type": "markdown",
   "id": "1391ff2b-1883-4ab7-8108-7d785257f1b9",
   "metadata": {},
   "source": [
    "新增 repo"
   ]
  },
  {
   "cell_type": "code",
   "execution_count": null,
   "id": "1755e96f-faca-4152-be80-f69767cc40b5",
   "metadata": {},
   "outputs": [],
   "source": [
    "@file:Repository(<absolute-path>)"
   ]
  },
  {
   "cell_type": "markdown",
   "id": "386c6065-a4c8-4614-8019-966b4a3a06e5",
   "metadata": {},
   "source": [
    "安装库"
   ]
  },
  {
   "cell_type": "code",
   "execution_count": null,
   "id": "3f89a270-a2c3-4a09-ae0e-62c7b6ee9dbe",
   "metadata": {},
   "outputs": [],
   "source": [
    "// 方式一\n",
    "@file:DependsOn(<coordinates>)\n",
    "\n",
    "// 方式二\n",
    "USE {\n",
    "    repositories {\n",
    "        maven {\n",
    "            url = \"https://my.secret.repo/maven/\"\n",
    "            credentials {\n",
    "                username = USER\n",
    "                password = TOKEN\n",
    "            }\n",
    "        }\n",
    "    }\n",
    "\n",
    "    dependencies {\n",
    "        val ktorVersion = \"2.0.3\"\n",
    "\n",
    "        implementation(\"my.secret:artifact:1.0-beta\")\n",
    "        implementation(\"io.ktor:ktor-client-core:$ktorVersion\")\n",
    "        implementation(\"io.ktor:ktor-client-apache:$ktorVersion\")\n",
    "    }\n",
    "}\n",
    "\n",
    "// 方式三（只有部分）\n",
    "%use krangl(0.10)"
   ]
  },
  {
   "cell_type": "markdown",
   "id": "7ad60a73-b8f9-4fbf-946f-f694984bc2b5",
   "metadata": {},
   "source": [
    "解决冲突"
   ]
  },
  {
   "cell_type": "code",
   "execution_count": null,
   "id": "eef5fe27-b1fc-4d5a-aa7e-6954bc732e87",
   "metadata": {},
   "outputs": [],
   "source": [
    "%dependency /conflict-manager latest-revision"
   ]
  },
  {
   "cell_type": "markdown",
   "id": "ebebbe9e-aa90-484f-bfb9-a834fcdced95",
   "metadata": {},
   "source": [
    "覆盖某个库"
   ]
  },
  {
   "cell_type": "code",
   "execution_count": null,
   "id": "e53d6726-ed13-44ce-8184-e5386fd1c52e",
   "metadata": {},
   "outputs": [],
   "source": [
    "%dependency /override de.grundid.opendatalab:geojson-jackson:1.2"
   ]
  },
  {
   "cell_type": "markdown",
   "id": "534bae25-96e0-4fb0-93bd-cb878aeee6c6",
   "metadata": {},
   "source": [
    "解析并加载库"
   ]
  },
  {
   "cell_type": "code",
   "execution_count": null,
   "id": "53b6cbe3-ad13-4eff-986e-f3ee164bec08",
   "metadata": {},
   "outputs": [],
   "source": [
    "%dependency /resolve"
   ]
  },
  {
   "cell_type": "code",
   "execution_count": null,
   "id": "db5f4233-5571-42ab-b55d-469c13686b63",
   "metadata": {},
   "outputs": [],
   "source": [
    "引用第三方库"
   ]
  },
  {
   "cell_type": "code",
   "execution_count": null,
   "id": "bb9266c0-47df-4310-a92a-2ccd758f08ae",
   "metadata": {},
   "outputs": [],
   "source": [
    "import com.github.javafaker.Faker;"
   ]
  }
 ],
 "metadata": {
  "kernelspec": {
   "display_name": "kotlin (j!)",
   "language": "kotlin",
   "name": "jbang-kotlin"
  },
  "language_info": {
   "codemirror_mode": "text/x-kotlin",
   "file_extension": ".kt",
   "mimetype": "text/x-kotlin",
   "name": "kotlin",
   "nbconvert_exporter": "",
   "pygments_lexer": "kotlin",
   "version": "1.9.0"
  }
 },
 "nbformat": 4,
 "nbformat_minor": 5
}

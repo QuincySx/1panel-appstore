{
 "cells": [
  {
   "cell_type": "markdown",
   "id": "386c6065-a4c8-4614-8019-966b4a3a06e5",
   "metadata": {},
   "source": [
    "安装库"
   ]
  },
  {
   "cell_type": "code",
   "execution_count": null,
   "id": "3f89a270-a2c3-4a09-ae0e-62c7b6ee9dbe",
   "metadata": {},
   "outputs": [],
   "source": [
    "// 安装 node 包\n",
    "import { Buffer } from \"node:buffer\";\n",
    "import crypto from \"node:crypto\";\n",
    "\n",
    "// 安装 npm 包\n",
    "import { Buffer } from \"npm:buffer\";\n",
    "\n",
    "// 安装网络包\n",
    "import { display } from \"https://deno.land/x/display@v0.1.1/mod.ts\";"
   ]
  }
 ],
 "metadata": {
  "kernelspec": {
   "display_name": "java (Rapaio/j!)",
   "language": "java",
   "name": "jbang-rapaio"
  },
  "language_info": {
   "codemirror_mode": "java",
   "file_extension": ".jshell",
   "mimetype": "text/x-java-source",
   "name": "java",
   "nbconvert_exporter": "script",
   "pygments_lexer": "java",
   "version": "21.0.3+9-LTS"
  }
 },
 "nbformat": 4,
 "nbformat_minor": 5
}

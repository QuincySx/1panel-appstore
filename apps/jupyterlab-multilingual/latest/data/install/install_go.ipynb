{
 "cells": [
  {
   "cell_type": "markdown",
   "metadata": {},
   "source": [
    "安装 Go Kernel"
   ]
  },
  {
   "cell_type": "code",
   "execution_count": null,
   "metadata": {},
   "outputs": [],
   "source": [
    "import os\n",
    "import subprocess\n",
    "    \n",
    "def install_go_tools():\n",
    "    # 设置 mise 环境变量\n",
    "    # mise_bin = \"/home/jovyan/.local/bin\"\n",
    "    # os.environ[\"PATH\"] = f\"{mise_bin}:{os.environ['PATH']}\"\n",
    "    # subprocess.run(['mise', '--version'], check=True)\n",
    "    \n",
    "    print(\"Installing Go...\")\n",
    "    subprocess.run(['mise', 'use', '--global', 'go@latest'], check=True)\n",
    "    print(\"Go install successfully\")\n",
    "\n",
    "    # 设置环境变量\n",
    "    go_path = \"/home/jovyan/.local/share/mise/installs/go/latest/bin\"\n",
    "    go_bin = \"/home/jovyan/go/bin\"\n",
    "    bashrc_path = \"/home/jovyan/.bashrc\"  # Adjust this path according to your user directory\n",
    "\n",
    "    # Construct the command to append PATH export to .bashrc\n",
    "    command = f'\\necho \"export PATH={go_path}:{go_bin}:$PATH\" >> {bashrc_path}'\n",
    "\n",
    "    # Execute the command\n",
    "    subprocess.run(['bash', '-c', command], check=True)\n",
    "    os.environ[\"PATH\"] = f\"{go_path}:{go_bin}:{os.environ['PATH']}\"\n",
    "    print(\"PATH added to .bashrc successfully\")\n",
    "\n",
    "    # 安装 Go 相关工具\n",
    "    print(\"Installing Go tools...\")\n",
    "    subprocess.run([\"go\", \"install\", \"github.com/janpfeifer/gonb@latest\"], check=True)\n",
    "    subprocess.run([\"go\", \"install\", \"golang.org/x/tools/cmd/goimports@latest\"], check=True)\n",
    "    subprocess.run([\"go\", \"install\", \"golang.org/x/tools/gopls@latest\"], check=True)\n",
    "    subprocess.run([\"gonb\", \"--install\"], check=True)\n",
    "\n",
    "    # 清理缓存\n",
    "    go_build_cache = \"/home/jovyan/.cache/go-build\"\n",
    "    go_pkg_mod = \"/home/jovyan/go/pkg/mod\"\n",
    "    subprocess.run([\"chmod\", \"-R\", \"777\", go_build_cache])\n",
    "    subprocess.run([\"rm\", \"-rf\", go_build_cache])\n",
    "    subprocess.run([\"chmod\", \"-R\", \"777\", go_pkg_mod])\n",
    "    subprocess.run([\"rm\", \"-rf\", go_pkg_mod])\n",
    "    print(\"Go and related tools installed successfully!\")\n",
    "\n",
    "install_go_tools()"
   ]
  }
 ],
 "metadata": {
  "kernelspec": {
   "display_name": "Python 3 (ipykernel)",
   "language": "python",
   "name": "python3"
  },
  "language_info": {
   "codemirror_mode": {
    "name": "ipython",
    "version": 3
   },
   "file_extension": ".py",
   "mimetype": "text/x-python",
   "name": "python",
   "nbconvert_exporter": "python",
   "pygments_lexer": "ipython3",
   "version": "3.11.6"
  }
 },
 "nbformat": 4,
 "nbformat_minor": 4
}
